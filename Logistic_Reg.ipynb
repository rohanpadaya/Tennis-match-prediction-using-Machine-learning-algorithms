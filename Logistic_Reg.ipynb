{
  "nbformat": 4,
  "nbformat_minor": 0,
  "metadata": {
    "colab": {
      "provenance": []
    },
    "kernelspec": {
      "name": "python3",
      "display_name": "Python 3"
    },
    "language_info": {
      "name": "python"
    }
  },
  "cells": [
    {
      "cell_type": "markdown",
      "source": [
        "## Importing Libraries"
      ],
      "metadata": {
        "id": "lp8ILcgwWMTP"
      }
    },
    {
      "cell_type": "code",
      "source": [
        "import os\n",
        "import pandas as pd\n",
        "import numpy as np\n",
        "from sklearn.linear_model import LogisticRegression\n",
        "from sklearn.metrics import accuracy_score, log_loss\n",
        "from sklearn.preprocessing import StandardScaler\n",
        "from sklearn.model_selection import GridSearchCV, train_test_split\n",
        "import matplotlib.pyplot as plt"
      ],
      "metadata": {
        "id": "N1eGDqwKWSM1"
      },
      "execution_count": 19,
      "outputs": []
    },
    {
      "cell_type": "markdown",
      "source": [
        "## Loading the datasets"
      ],
      "metadata": {
        "id": "OTSGj-2WWKiw"
      }
    },
    {
      "cell_type": "code",
      "source": [
        "# List of file paths for the data from 2005 to 2019\n",
        "\n",
        "file_paths = [\n",
        "\n",
        "    '/content/drive/MyDrive/Betting_data/2005.xls',\n",
        "    '/content/drive/MyDrive/Betting_data/2006.xls',\n",
        "    '/content/drive/MyDrive/Betting_data/2007.xls',\n",
        "    '/content/drive/MyDrive/Betting_data/2008.xls',\n",
        "    '/content/drive/MyDrive/Betting_data/2009.xls',\n",
        "    '/content/drive/MyDrive/Betting_data/2010.xls',\n",
        "    '/content/drive/MyDrive/Betting_data/2011.xls',\n",
        "    '/content/drive/MyDrive/Betting_data/2012.xls',\n",
        "    '/content/drive/MyDrive/Betting_data/2013.xlsx',\n",
        "    '/content/drive/MyDrive/Betting_data/2014.xlsx',\n",
        "    '/content/drive/MyDrive/Betting_data/2015.xlsx',\n",
        "    '/content/drive/MyDrive/Betting_data/2016.xlsx',\n",
        "    '/content/drive/MyDrive/Betting_data/2017.xlsx',\n",
        "    '/content/drive/MyDrive/Betting_data/2018.xlsx',\n",
        "    '/content/drive/MyDrive/Betting_data/2019.xlsx'\n",
        "]\n",
        "\n",
        "# Initializing an empty list to hold DataFrames\n",
        "data_frames = []\n",
        "\n",
        "# Loading data into a DataFrame\n",
        "for file_path in file_paths:\n",
        "    if os.path.exists(file_path):\n",
        "        df = pd.read_excel(file_path)\n",
        "        data_frames.append(df)\n",
        "    else:\n",
        "        print(f\"File {file_path} not found.\")\n",
        "\n",
        "# Combining all the DataFrames into a single DataFrame\n",
        "betting_df = pd.concat(data_frames, ignore_index=True)\n"
      ],
      "metadata": {
        "colab": {
          "base_uri": "https://localhost:8080/"
        },
        "id": "vrme0iZOWWLz",
        "outputId": "1649937d-e39f-420c-84c8-042fc8a3672d"
      },
      "execution_count": 2,
      "outputs": [
        {
          "output_type": "stream",
          "name": "stderr",
          "text": [
            "/usr/local/lib/python3.10/dist-packages/openpyxl/worksheet/_reader.py:329: UserWarning: Unknown extension is not supported and will be removed\n",
            "  warn(msg)\n",
            "/usr/local/lib/python3.10/dist-packages/openpyxl/worksheet/_reader.py:329: UserWarning: Unknown extension is not supported and will be removed\n",
            "  warn(msg)\n",
            "/usr/local/lib/python3.10/dist-packages/openpyxl/worksheet/_reader.py:329: UserWarning: Unknown extension is not supported and will be removed\n",
            "  warn(msg)\n",
            "/usr/local/lib/python3.10/dist-packages/openpyxl/worksheet/_reader.py:329: UserWarning: Unknown extension is not supported and will be removed\n",
            "  warn(msg)\n"
          ]
        }
      ]
    },
    {
      "cell_type": "code",
      "source": [
        "# Verifying the data load\n",
        "\n",
        "betting_df.info()"
      ],
      "metadata": {
        "colab": {
          "base_uri": "https://localhost:8080/"
        },
        "id": "EFaPdLeKXSms",
        "outputId": "c67cbbb1-206b-48a3-c8de-81f4f718ca9c"
      },
      "execution_count": 4,
      "outputs": [
        {
          "output_type": "stream",
          "name": "stdout",
          "text": [
            "<class 'pandas.core.frame.DataFrame'>\n",
            "RangeIndex: 40390 entries, 0 to 40389\n",
            "Data columns (total 48 columns):\n",
            " #   Column      Non-Null Count  Dtype         \n",
            "---  ------      --------------  -----         \n",
            " 0   ATP         40390 non-null  int64         \n",
            " 1   Location    40390 non-null  object        \n",
            " 2   Tournament  40390 non-null  object        \n",
            " 3   Date        40390 non-null  datetime64[ns]\n",
            " 4   Series      40390 non-null  object        \n",
            " 5   Court       40390 non-null  object        \n",
            " 6   Surface     40390 non-null  object        \n",
            " 7   Round       40390 non-null  object        \n",
            " 8   Best of     40390 non-null  int64         \n",
            " 9   Winner      40390 non-null  object        \n",
            " 10  Loser       40390 non-null  object        \n",
            " 11  WRank       40375 non-null  float64       \n",
            " 12  LRank       40303 non-null  float64       \n",
            " 13  WPts        38701 non-null  float64       \n",
            " 14  LPts        38631 non-null  float64       \n",
            " 15  W1          40155 non-null  float64       \n",
            " 16  L1          40157 non-null  float64       \n",
            " 17  W2          39765 non-null  object        \n",
            " 18  L2          39766 non-null  object        \n",
            " 19  W3          18824 non-null  object        \n",
            " 20  L3          18824 non-null  object        \n",
            " 21  W4          3647 non-null   float64       \n",
            " 22  L4          3647 non-null   float64       \n",
            " 23  W5          1378 non-null   float64       \n",
            " 24  L5          1378 non-null   float64       \n",
            " 25  Wsets       40160 non-null  float64       \n",
            " 26  Lsets       40159 non-null  float64       \n",
            " 27  Comment     40390 non-null  object        \n",
            " 28  B365W       39843 non-null  float64       \n",
            " 29  B365L       39866 non-null  float64       \n",
            " 30  CBW         8053 non-null   float64       \n",
            " 31  CBL         8053 non-null   float64       \n",
            " 32  EXW         36780 non-null  object        \n",
            " 33  EXL         36785 non-null  float64       \n",
            " 34  IWW         2819 non-null   float64       \n",
            " 35  IWL         2819 non-null   float64       \n",
            " 36  PSW         37240 non-null  float64       \n",
            " 37  PSL         37240 non-null  float64       \n",
            " 38  UBW         10671 non-null  float64       \n",
            " 39  UBL         10671 non-null  float64       \n",
            " 40  LBW         28131 non-null  float64       \n",
            " 41  LBL         28142 non-null  float64       \n",
            " 42  SJW         15572 non-null  float64       \n",
            " 43  SJL         15579 non-null  float64       \n",
            " 44  MaxW        25354 non-null  float64       \n",
            " 45  MaxL        25354 non-null  float64       \n",
            " 46  AvgW        25354 non-null  float64       \n",
            " 47  AvgL        25354 non-null  float64       \n",
            "dtypes: datetime64[ns](1), float64(31), int64(2), object(14)\n",
            "memory usage: 14.8+ MB\n"
          ]
        }
      ]
    },
    {
      "cell_type": "code",
      "source": [
        "# Selecting Columns and Data Cleaning\n",
        "\n",
        "# Converting 'Date' into a datetime object\n",
        "betting_df[\"Date\"] = pd.to_datetime(betting_df[\"Date\"], errors='coerce')\n",
        "\n",
        "# Selecting only the relevant columns\n",
        "columns = [\n",
        "    \"Date\",\n",
        "    \"Tournament\",\n",
        "    \"Surface\",\n",
        "    \"Winner\",\n",
        "    \"Loser\",\n",
        "    \"WRank\",\n",
        "    \"WPts\",\n",
        "    \"LRank\",\n",
        "    \"LPts\",\n",
        "    \"B365W\",\n",
        "    \"B365L\",\n",
        "    \"PSW\",\n",
        "    \"PSL\"\n",
        "]\n",
        "betting_df = betting_df[columns]\n",
        "\n",
        "# Converting categorical columns to 'category' data type\n",
        "categorical_columns = [\"Tournament\", \"Surface\"]\n",
        "betting_df[categorical_columns] = betting_df[categorical_columns].astype(\"category\")\n",
        "\n",
        "# Handling missing values in 'WRank' and 'LRank'\n",
        "betting_df[\"WRank\"] = betting_df[\"WRank\"].fillna(100000)\n",
        "betting_df[\"LRank\"] = betting_df[\"LRank\"].fillna(100000)\n",
        "\n",
        "# Handling missing values in 'WPts' and 'LPts' by imputing with the median\n",
        "betting_df[\"WPts\"] = betting_df[\"WPts\"].fillna(betting_df[\"WPts\"].median())\n",
        "betting_df[\"LPts\"] = betting_df[\"LPts\"].fillna(betting_df[\"LPts\"].median())\n",
        "\n",
        "# Removing remaining NaN values\n",
        "betting_df.dropna(inplace=True)\n",
        "\n",
        "# Creating a higher-ranked player column\n",
        "betting_df[\"higher_rank_won\"] = betting_df[\"WRank\"] < betting_df[\"LRank\"]\n",
        "\n",
        "# Calculating the difference in ranking points between the higher and lower-ranked players\n",
        "betting_df[\"diff\"] = (\n",
        "    betting_df[\"WPts\"] * betting_df[\"higher_rank_won\"] +\n",
        "    betting_df[\"LPts\"] * (~betting_df[\"higher_rank_won\"])\n",
        ") - (\n",
        "    betting_df[\"LPts\"] * betting_df[\"higher_rank_won\"] +\n",
        "    betting_df[\"WPts\"] * (~betting_df[\"higher_rank_won\"])\n",
        ")\n",
        "\n",
        "# Print the last few rows of the DataFrame to verify the output\n",
        "print(betting_df.tail())\n"
      ],
      "metadata": {
        "colab": {
          "base_uri": "https://localhost:8080/"
        },
        "id": "eIlbFAE5Xl_u",
        "outputId": "784ffe15-d3ac-451a-bd93-0a3adb539c74"
      },
      "execution_count": 5,
      "outputs": [
        {
          "output_type": "stream",
          "name": "stdout",
          "text": [
            "            Date   Tournament Surface         Winner          Loser  WRank  \\\n",
            "40385 2019-11-15  Masters Cup    Hard      Nadal R.   Tsitsipas S.     1.0   \n",
            "40386 2019-11-15  Masters Cup    Hard     Zverev A.    Medvedev D.     7.0   \n",
            "40387 2019-11-16  Masters Cup    Hard  Tsitsipas S.     Federer R.     6.0   \n",
            "40388 2019-11-16  Masters Cup    Hard      Thiem D.      Zverev A.     5.0   \n",
            "40389 2019-11-17  Masters Cup    Hard  Tsitsipas S.       Thiem D.     6.0   \n",
            "\n",
            "         WPts  LRank    LPts  B365W  B365L   PSW   PSL  higher_rank_won  \\\n",
            "40385  9585.0    6.0  4000.0   1.44   2.75  1.39  3.26             True   \n",
            "40386  2945.0    4.0  5705.0   1.90   1.90  2.14  1.79            False   \n",
            "40387  4000.0    3.0  6190.0   3.50   1.30  3.75  1.33            False   \n",
            "40388  5025.0    7.0  2945.0   1.80   2.00  1.84  2.10             True   \n",
            "40389  4000.0    5.0  5025.0   2.00   1.80  2.00  1.93            False   \n",
            "\n",
            "         diff  \n",
            "40385  5585.0  \n",
            "40386  2760.0  \n",
            "40387  2190.0  \n",
            "40388  2080.0  \n",
            "40389  1025.0  \n"
          ]
        },
        {
          "output_type": "stream",
          "name": "stderr",
          "text": [
            "<ipython-input-5-74acefc4b5c3>:26: SettingWithCopyWarning: \n",
            "A value is trying to be set on a copy of a slice from a DataFrame.\n",
            "Try using .loc[row_indexer,col_indexer] = value instead\n",
            "\n",
            "See the caveats in the documentation: https://pandas.pydata.org/pandas-docs/stable/user_guide/indexing.html#returning-a-view-versus-a-copy\n",
            "  betting_df[categorical_columns] = betting_df[categorical_columns].astype(\"category\")\n",
            "<ipython-input-5-74acefc4b5c3>:29: SettingWithCopyWarning: \n",
            "A value is trying to be set on a copy of a slice from a DataFrame.\n",
            "Try using .loc[row_indexer,col_indexer] = value instead\n",
            "\n",
            "See the caveats in the documentation: https://pandas.pydata.org/pandas-docs/stable/user_guide/indexing.html#returning-a-view-versus-a-copy\n",
            "  betting_df[\"WRank\"] = betting_df[\"WRank\"].fillna(100000)\n",
            "<ipython-input-5-74acefc4b5c3>:30: SettingWithCopyWarning: \n",
            "A value is trying to be set on a copy of a slice from a DataFrame.\n",
            "Try using .loc[row_indexer,col_indexer] = value instead\n",
            "\n",
            "See the caveats in the documentation: https://pandas.pydata.org/pandas-docs/stable/user_guide/indexing.html#returning-a-view-versus-a-copy\n",
            "  betting_df[\"LRank\"] = betting_df[\"LRank\"].fillna(100000)\n",
            "<ipython-input-5-74acefc4b5c3>:33: SettingWithCopyWarning: \n",
            "A value is trying to be set on a copy of a slice from a DataFrame.\n",
            "Try using .loc[row_indexer,col_indexer] = value instead\n",
            "\n",
            "See the caveats in the documentation: https://pandas.pydata.org/pandas-docs/stable/user_guide/indexing.html#returning-a-view-versus-a-copy\n",
            "  betting_df[\"WPts\"] = betting_df[\"WPts\"].fillna(betting_df[\"WPts\"].median())\n",
            "<ipython-input-5-74acefc4b5c3>:34: SettingWithCopyWarning: \n",
            "A value is trying to be set on a copy of a slice from a DataFrame.\n",
            "Try using .loc[row_indexer,col_indexer] = value instead\n",
            "\n",
            "See the caveats in the documentation: https://pandas.pydata.org/pandas-docs/stable/user_guide/indexing.html#returning-a-view-versus-a-copy\n",
            "  betting_df[\"LPts\"] = betting_df[\"LPts\"].fillna(betting_df[\"LPts\"].median())\n",
            "<ipython-input-5-74acefc4b5c3>:37: SettingWithCopyWarning: \n",
            "A value is trying to be set on a copy of a slice from a DataFrame\n",
            "\n",
            "See the caveats in the documentation: https://pandas.pydata.org/pandas-docs/stable/user_guide/indexing.html#returning-a-view-versus-a-copy\n",
            "  betting_df.dropna(inplace=True)\n",
            "<ipython-input-5-74acefc4b5c3>:40: SettingWithCopyWarning: \n",
            "A value is trying to be set on a copy of a slice from a DataFrame.\n",
            "Try using .loc[row_indexer,col_indexer] = value instead\n",
            "\n",
            "See the caveats in the documentation: https://pandas.pydata.org/pandas-docs/stable/user_guide/indexing.html#returning-a-view-versus-a-copy\n",
            "  betting_df[\"higher_rank_won\"] = betting_df[\"WRank\"] < betting_df[\"LRank\"]\n",
            "<ipython-input-5-74acefc4b5c3>:43: SettingWithCopyWarning: \n",
            "A value is trying to be set on a copy of a slice from a DataFrame.\n",
            "Try using .loc[row_indexer,col_indexer] = value instead\n",
            "\n",
            "See the caveats in the documentation: https://pandas.pydata.org/pandas-docs/stable/user_guide/indexing.html#returning-a-view-versus-a-copy\n",
            "  betting_df[\"diff\"] = (\n"
          ]
        }
      ]
    },
    {
      "cell_type": "code",
      "source": [
        "# Verify the data types\n",
        "print(\"Data types:\\n\", betting_df.dtypes)"
      ],
      "metadata": {
        "colab": {
          "base_uri": "https://localhost:8080/"
        },
        "id": "1eMi3dJ0X4An",
        "outputId": "036678c2-ce0a-4450-f590-1b4cc3433dc7"
      },
      "execution_count": 6,
      "outputs": [
        {
          "output_type": "stream",
          "name": "stdout",
          "text": [
            "Data types:\n",
            " Date               datetime64[ns]\n",
            "Tournament               category\n",
            "Surface                  category\n",
            "Winner                     object\n",
            "Loser                      object\n",
            "WRank                     float64\n",
            "WPts                      float64\n",
            "LRank                     float64\n",
            "LPts                      float64\n",
            "B365W                     float64\n",
            "B365L                     float64\n",
            "PSW                       float64\n",
            "PSL                       float64\n",
            "higher_rank_won              bool\n",
            "diff                      float64\n",
            "dtype: object\n"
          ]
        }
      ]
    },
    {
      "cell_type": "code",
      "source": [
        "# Verifying the date range in the dataset\n",
        "print(\"Date range in the dataset:\")\n",
        "print(betting_df['Date'].min())\n",
        "print(betting_df['Date'].max())\n",
        "\n",
        "# Checking for remaining missing values\n",
        "print(\"Missing values after cleaning:\")\n",
        "print(betting_df.isna().sum())"
      ],
      "metadata": {
        "colab": {
          "base_uri": "https://localhost:8080/"
        },
        "id": "OqOqHi2yYDnE",
        "outputId": "87382e11-002e-4c39-f222-43ffd1ec9f61"
      },
      "execution_count": 8,
      "outputs": [
        {
          "output_type": "stream",
          "name": "stdout",
          "text": [
            "Date range in the dataset:\n",
            "2005-01-03 00:00:00\n",
            "2019-11-17 00:00:00\n",
            "Missing values after cleaning:\n",
            "Date               0\n",
            "Tournament         0\n",
            "Surface            0\n",
            "Winner             0\n",
            "Loser              0\n",
            "WRank              0\n",
            "WPts               0\n",
            "LRank              0\n",
            "LPts               0\n",
            "B365W              0\n",
            "B365L              0\n",
            "PSW                0\n",
            "PSL                0\n",
            "higher_rank_won    0\n",
            "diff               0\n",
            "dtype: int64\n"
          ]
        }
      ]
    },
    {
      "cell_type": "markdown",
      "source": [
        "## Data Splitting"
      ],
      "metadata": {
        "id": "6gmo_CIqYSiO"
      }
    },
    {
      "cell_type": "code",
      "source": [
        "# Split the data into training and testing sets based on date\n",
        "split_date = pd.to_datetime(\"2019-01-01\")\n",
        "matches_train = betting_df[betting_df[\"Date\"] < split_date]\n",
        "matches_test = betting_df[betting_df[\"Date\"] >= split_date]\n",
        "\n",
        "# Prepare the features and target variable\n",
        "X_train = matches_train[[\"diff\"]]\n",
        "y_train = matches_train[\"higher_rank_won\"]\n",
        "X_test = matches_test[[\"diff\"]]\n",
        "y_test = matches_test[\"higher_rank_won\"]\n"
      ],
      "metadata": {
        "id": "EQVpGMjqYHD6"
      },
      "execution_count": 9,
      "outputs": []
    },
    {
      "cell_type": "code",
      "source": [
        "# Verifying the Split for train\n",
        "\n",
        "print(X_train.shape, y_train.shape)"
      ],
      "metadata": {
        "colab": {
          "base_uri": "https://localhost:8080/"
        },
        "id": "-9FNaAJlYZxe",
        "outputId": "77926933-e010-4217-8357-c806f657f1bc"
      },
      "execution_count": 10,
      "outputs": [
        {
          "output_type": "stream",
          "name": "stdout",
          "text": [
            "(34396, 1) (34396,)\n"
          ]
        }
      ]
    },
    {
      "cell_type": "code",
      "source": [
        "# Verifying the Split for test\n",
        "\n",
        "print(X_test.shape, y_test.shape)"
      ],
      "metadata": {
        "colab": {
          "base_uri": "https://localhost:8080/"
        },
        "id": "p31OudRgYk6x",
        "outputId": "d2069f69-0b4c-423f-8fd2-5e211066c9ac"
      },
      "execution_count": 11,
      "outputs": [
        {
          "output_type": "stream",
          "name": "stdout",
          "text": [
            "(2579, 1) (2579,)\n"
          ]
        }
      ]
    },
    {
      "cell_type": "markdown",
      "source": [
        "## Model Fitting"
      ],
      "metadata": {
        "id": "6kZX2hI7Ysgb"
      }
    },
    {
      "cell_type": "code",
      "source": [
        "# Fit the logistic regression model\n",
        "logistic_model = LogisticRegression()\n",
        "logistic_model.fit(X_train, y_train)\n",
        "\n",
        "# Predict probabilities on the test set\n",
        "y_pred_proba = logistic_model.predict_proba(X_test)[:, 1]"
      ],
      "metadata": {
        "id": "lRjrCpW0Yr6b"
      },
      "execution_count": 14,
      "outputs": []
    },
    {
      "cell_type": "markdown",
      "source": [
        "## Model Evaluation"
      ],
      "metadata": {
        "id": "DgihN157Y_KI"
      }
    },
    {
      "cell_type": "code",
      "source": [
        "# Calculate accuracy and log loss\n",
        "logistic_accuracy = accuracy_score(y_test, logistic_model.predict(X_test))\n",
        "logistic_log_loss = log_loss(y_test, y_pred_proba)\n",
        "\n",
        "# Calculate calibration\n",
        "logistic_calibration = np.sum(y_pred_proba) / np.sum(y_test)\n",
        "\n",
        "# Print the results\n",
        "print(\"Logistic Model Accuracy:\", logistic_accuracy)\n",
        "print(\"Logistic Model Log Loss:\", logistic_log_loss)\n",
        "print(\"Logistic Model Calibration:\", logistic_calibration)\n",
        "\n",
        "# Append results to validation_stats DataFrame\n",
        "validation_stats = pd.DataFrame({\n",
        "    \"model\": [\"logistic\"],\n",
        "    \"accuracy\": [logistic_accuracy],\n",
        "    \"calibration\": [logistic_calibration],\n",
        "    \"log_loss\": [logistic_log_loss]\n",
        "})\n",
        "\n",
        "print(validation_stats)\n"
      ],
      "metadata": {
        "colab": {
          "base_uri": "https://localhost:8080/"
        },
        "id": "LLuUX8CnY9qI",
        "outputId": "4def64b7-1d56-481c-e04c-ac1ab8abc352"
      },
      "execution_count": 15,
      "outputs": [
        {
          "output_type": "stream",
          "name": "stdout",
          "text": [
            "Logistic Model Accuracy: 0.6145792943001164\n",
            "Logistic Model Log Loss: 0.6531794960722667\n",
            "Logistic Model Calibration: 1.0830094170447602\n",
            "      model  accuracy  calibration  log_loss\n",
            "0  logistic  0.614579     1.083009  0.653179\n"
          ]
        }
      ]
    },
    {
      "cell_type": "code",
      "source": [
        "# Generate a range of differences in ranking points\n",
        "diff_range = np.linspace(X_train[\"diff\"].min(), X_train[\"diff\"].max(), 1000).reshape(-1, 1)\n",
        "\n",
        "# Predict the probability of the higher-ranked player winning\n",
        "probabilities = logistic_model.predict_proba(diff_range)[:, 1]\n",
        "\n",
        "# Plot the probability against the difference in ranking points\n",
        "plt.figure(figsize=(10, 6))\n",
        "plt.plot(diff_range, probabilities, label='Probability of Higher-Ranked Player Winning')\n",
        "plt.title('Logistic Regression - Tennis Match Prediction')\n",
        "plt.xlabel('Difference in Ranking Points')\n",
        "plt.ylabel('Probability of Higher-Ranked Player Winning')\n",
        "plt.grid(True)\n",
        "plt.show()"
      ],
      "metadata": {
        "colab": {
          "base_uri": "https://localhost:8080/",
          "height": 618
        },
        "id": "01J53Q9tbMuE",
        "outputId": "d8415ddd-328f-494c-c904-58daec97331f"
      },
      "execution_count": 18,
      "outputs": [
        {
          "output_type": "stream",
          "name": "stderr",
          "text": [
            "/usr/local/lib/python3.10/dist-packages/sklearn/base.py:465: UserWarning: X does not have valid feature names, but LogisticRegression was fitted with feature names\n",
            "  warnings.warn(\n"
          ]
        },
        {
          "output_type": "display_data",
          "data": {
            "text/plain": [
              "<Figure size 1000x600 with 1 Axes>"
            ],
            "image/png": "[encoded data removed]"
          },
          "metadata": {}
        }
      ]
    },
    {
      "cell_type": "markdown",
      "source": [
        "# Optimizing Logistic Reg Model using Grid Search"
      ],
      "metadata": {
        "id": "9AY3AEZQcxle"
      }
    },
    {
      "cell_type": "code",
      "source": [
        "# Defining the parameter grid\n",
        "param_grid = {\n",
        "    'C': [0.001, 0.01, 0.1, 1, 10, 100],\n",
        "    'penalty': ['l1', 'l2'],              # Regularization\n",
        "    'solver': ['liblinear', 'saga'],      # Solvers\n",
        "}\n",
        "\n",
        "# Initializing the logistic regression model\n",
        "logistic_model = LogisticRegression(max_iter=10000)\n",
        "\n",
        "# Setting up GridSearchCV\n",
        "grid_search = GridSearchCV(logistic_model, param_grid, cv=5, scoring='accuracy', n_jobs=-1)\n",
        "\n",
        "# Fitting the model with the best parameters\n",
        "grid_search.fit(X_train, y_train)\n",
        "\n",
        "# Getting the best parameters and the best score\n",
        "best_params = grid_search.best_params_\n",
        "best_score = grid_search.best_score_\n",
        "\n",
        "print(f\"Best Parameters: {best_params}\")\n",
        "print(f\"Best Cross-Validation Accuracy: {best_score}\")\n",
        "\n",
        "# Train the logistic regression model with the best parameters on the full training set\n",
        "best_logistic_model = grid_search.best_estimator_\n",
        "\n",
        "# Predict probabilities on the test set\n",
        "y_pred_proba = best_logistic_model.predict_proba(X_test)[:, 1]\n"
      ],
      "metadata": {
        "colab": {
          "base_uri": "https://localhost:8080/"
        },
        "id": "hhxw2Eovb9fm",
        "outputId": "a43b1a16-4d86-4926-a775-d555797e8e78"
      },
      "execution_count": 22,
      "outputs": [
        {
          "output_type": "stream",
          "name": "stdout",
          "text": [
            "Best Parameters: {'C': 0.001, 'penalty': 'l1', 'solver': 'liblinear'}\n",
            "Best Cross-Validation Accuracy: 0.6767629827212582\n"
          ]
        }
      ]
    },
    {
      "cell_type": "code",
      "source": [
        "# Calculate accuracy and log loss\n",
        "logistic_accuracy = accuracy_score(y_test, best_logistic_model.predict(X_test))\n",
        "logistic_log_loss = log_loss(y_test, y_pred_proba)\n",
        "\n",
        "# Calculate calibration\n",
        "logistic_calibration = np.sum(y_pred_proba) / np.sum(y_test)\n",
        "\n",
        "# Print the results\n",
        "print(\"Optimized Logistic Model Accuracy:\", logistic_accuracy)\n",
        "print(\"Optimized Logistic Model Log Loss:\", logistic_log_loss)\n",
        "print(\"Optimized Logistic Model Calibration:\", logistic_calibration)\n",
        "\n",
        "# Append results to validation_stats DataFrame\n",
        "validation_stats = pd.DataFrame({\n",
        "    \"model\": [\"optimized_logistic\"],\n",
        "    \"accuracy\": [logistic_accuracy],\n",
        "    \"calibration\": [logistic_calibration],\n",
        "    \"log_loss\": [logistic_log_loss]\n",
        "})\n",
        "\n",
        "print(validation_stats)"
      ],
      "metadata": {
        "colab": {
          "base_uri": "https://localhost:8080/"
        },
        "id": "E7j8afGjc6cK",
        "outputId": "1221f0e2-0eb6-42b0-e6d6-cec61e0243ae"
      },
      "execution_count": 21,
      "outputs": [
        {
          "output_type": "stream",
          "name": "stdout",
          "text": [
            "Optimized Logistic Model Accuracy: 0.6145792943001164\n",
            "Optimized Logistic Model Log Loss: 0.651181509056977\n",
            "Optimized Logistic Model Calibration: 1.038517993275239\n",
            "                model  accuracy  calibration  log_loss\n",
            "0  optimized_logistic  0.614579     1.038518  0.651182\n"
          ]
        }
      ]
    },
    {
      "cell_type": "markdown",
      "source": [
        "**As you can see above the accuracy remained the same, however there was slight improvement in Calibration and Log_Loss.**"
      ],
      "metadata": {
        "id": "Ui80VBltdCNS"
      }
    }
  ]
}