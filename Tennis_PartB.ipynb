{
  "nbformat": 4,
  "nbformat_minor": 0,
  "metadata": {
    "colab": {
      "provenance": []
    },
    "kernelspec": {
      "name": "python3",
      "display_name": "Python 3"
    },
    "language_info": {
      "name": "python"
    }
  },
  "cells": [
    {
      "cell_type": "markdown",
      "source": [
        "### Betting Data"
      ],
      "metadata": {
        "id": "coCWZiufdWC0"
      }
    },
    {
      "cell_type": "code",
      "source": [
        "import os\n",
        "import pandas as pd\n",
        "\n",
        "# Path to the folder containing the betting data files\n",
        "folder_path = '/content/drive/My Drive/Betting_data'\n",
        "\n",
        "# Listing all .xls files in the directory\n",
        "files = [f for f in os.listdir(folder_path) if f.endswith('.xls')]\n",
        "\n",
        "# Initializing an empty list to hold DataFrames\n",
        "data_frames = []\n",
        "\n",
        "# Loading data into a DataFrame\n",
        "for file in files:\n",
        "    file_path = os.path.join(folder_path, file)\n",
        "    df = pd.read_excel(file_path)\n",
        "    year = file.split('.')[0]  # Assuming the file name contains the year\n",
        "    df['Year'] = year\n",
        "    data_frames.append(df)\n",
        "\n",
        "# Combining all the DataFrames into a single DataFrame\n",
        "betting_df = pd.concat(data_frames, ignore_index=True)\n",
        "\n",
        "print(betting_df.head())\n"
      ],
      "metadata": {
        "colab": {
          "base_uri": "https://localhost:8080/"
        },
        "id": "bJ2YhtkadHKv",
        "outputId": "b746205f-faf3-4319-982d-c49a01975080"
      },
      "execution_count": 11,
      "outputs": [
        {
          "output_type": "stream",
          "name": "stdout",
          "text": [
            "   ATP  Location                              Tournament       Date  \\\n",
            "0    1  Adelaide  Next Generation Adelaide International 2007-12-31   \n",
            "1    1  Adelaide  Next Generation Adelaide International 2007-12-31   \n",
            "2    1  Adelaide  Next Generation Adelaide International 2007-12-31   \n",
            "3    1  Adelaide  Next Generation Adelaide International 2007-12-31   \n",
            "4    1  Adelaide  Next Generation Adelaide International 2007-12-31   \n",
            "\n",
            "          Series    Court Surface      Round  Best of       Winner  ... SBW  \\\n",
            "0  International  Outdoor    Hard  1st Round        3   Querrey S.  ... NaN   \n",
            "1  International  Outdoor    Hard  1st Round        3  Sirianni J.  ... NaN   \n",
            "2  International  Outdoor    Hard  1st Round        3   Russell M.  ... NaN   \n",
            "3  International  Outdoor    Hard  1st Round        3    Becker B.  ... NaN   \n",
            "4  International  Outdoor    Hard  1st Round        3    Zverev M.  ... NaN   \n",
            "\n",
            "  SBL B&WW  B&WL  SJW  SJL  MaxW MaxL AvgW AvgL  \n",
            "0 NaN  NaN   NaN  NaN  NaN   NaN  NaN  NaN  NaN  \n",
            "1 NaN  NaN   NaN  NaN  NaN   NaN  NaN  NaN  NaN  \n",
            "2 NaN  NaN   NaN  NaN  NaN   NaN  NaN  NaN  NaN  \n",
            "3 NaN  NaN   NaN  NaN  NaN   NaN  NaN  NaN  NaN  \n",
            "4 NaN  NaN   NaN  NaN  NaN   NaN  NaN  NaN  NaN  \n",
            "\n",
            "[5 rows x 55 columns]\n"
          ]
        }
      ]
    },
    {
      "cell_type": "markdown",
      "source": [
        "## Data Preparation"
      ],
      "metadata": {
        "id": "k4qb_j3giJnb"
      }
    },
    {
      "cell_type": "code",
      "source": [
        "# Selecting relevant columns\n",
        "relevant_columns = ['Year', 'Winner', 'Loser', 'B365W', 'B365L', 'Date']\n",
        "betting_df = betting_df[relevant_columns]\n",
        "\n",
        "# Dropping rows with missing odds\n",
        "betting_df = betting_df.dropna(subset=['B365W', 'B365L'])\n",
        "\n",
        "# Displaying cleaned DataFrame\n",
        "print(betting_df.head())\n"
      ],
      "metadata": {
        "colab": {
          "base_uri": "https://localhost:8080/"
        },
        "id": "PkIzLzoHd0xN",
        "outputId": "7d18eef4-1b32-4a57-9529-5745dd9f6d38"
      },
      "execution_count": 12,
      "outputs": [
        {
          "output_type": "stream",
          "name": "stdout",
          "text": [
            "   Year       Winner           Loser  B365W  B365L       Date\n",
            "0  2008   Querrey S.       Darcis S.   1.53   2.37 2007-12-31\n",
            "1  2008  Sirianni J.     Stepanek R.   6.50   1.10 2007-12-31\n",
            "2  2008   Russell M.  Del Potro J.M.   3.75   1.25 2007-12-31\n",
            "3  2008    Becker B.       Smeets R.   1.40   2.75 2007-12-31\n",
            "4  2008    Zverev M.        Mayer F.   1.72   2.00 2007-12-31\n"
          ]
        }
      ]
    },
    {
      "cell_type": "code",
      "source": [
        "#Function to calculate implied probabilities\n",
        "def calculate_probabilities(row):\n",
        "    alpha = row['B365W']  #Winner odds\n",
        "    beta = row['B365L']   #Loser odds\n",
        "\n",
        "    if pd.isna(alpha) or pd.isna(beta):\n",
        "        return pd.Series([None, None])\n",
        "\n",
        "    implied_p1 = 1 / alpha\n",
        "    implied_p2 = 1 / beta\n",
        "\n",
        "    total = implied_p1 + implied_p2\n",
        "\n",
        "    normalized_p1 = implied_p1 / total\n",
        "    normalized_p2 = implied_p2 / total\n",
        "\n",
        "    return pd.Series([normalized_p1, normalized_p2])\n",
        "\n",
        "# Normalizing probabilities\n",
        "betting_df[['normalized_p1', 'normalized_p2']] = betting_df.apply(calculate_probabilities, axis=1)\n",
        "\n",
        "#Checking the normalized columns\n",
        "print(betting_df[['normalized_p1', 'normalized_p2']].head())\n",
        "\n",
        "# Calculating the result column (1 if normalized_p1 > normalized_p2, otherwise 0)\n",
        "betting_df['result'] = (betting_df['normalized_p1'] > betting_df['normalized_p2']).astype(int)\n",
        "\n",
        "# Checking the 'result' column\n",
        "print(betting_df[['normalized_p1', 'normalized_p2', 'result']].head())\n"
      ],
      "metadata": {
        "colab": {
          "base_uri": "https://localhost:8080/"
        },
        "id": "rHaxh9akd9bo",
        "outputId": "e4e490f8-3a06-4f41-b5cd-fcf246ae58d4"
      },
      "execution_count": 13,
      "outputs": [
        {
          "output_type": "stream",
          "name": "stdout",
          "text": [
            "   normalized_p1  normalized_p2\n",
            "0       0.607692       0.392308\n",
            "1       0.144737       0.855263\n",
            "2       0.250000       0.750000\n",
            "3       0.662651       0.337349\n",
            "4       0.537634       0.462366\n",
            "   normalized_p1  normalized_p2  result\n",
            "0       0.607692       0.392308       1\n",
            "1       0.144737       0.855263       0\n",
            "2       0.250000       0.750000       0\n",
            "3       0.662651       0.337349       1\n",
            "4       0.537634       0.462366       1\n"
          ]
        }
      ]
    },
    {
      "cell_type": "markdown",
      "source": [
        "## Data Modeling"
      ],
      "metadata": {
        "id": "vkyFp8wNiNNW"
      }
    },
    {
      "cell_type": "markdown",
      "source": [
        "### ELO model with constant K"
      ],
      "metadata": {
        "id": "in-t4N5CgyLF"
      }
    },
    {
      "cell_type": "code",
      "source": [
        "from sklearn.metrics import accuracy_score, log_loss\n",
        "\n",
        "def calculate_EP(elo_1, elo_2):\n",
        "    return 1 / (1 + 10 ** ((elo_2 - elo_1) / 400))\n",
        "\n",
        "def update_elo(current_elo, expected_prob, actual_result, k_factor):\n",
        "    return current_elo + k_factor * (actual_result - expected_prob)\n",
        "\n",
        "# Function to apply the constant K Elo model\n",
        "def apply_constant_elo_model(betting_df, k_factor):\n",
        "    elo_ratings = {}  # Initialize Elo ratings dictionary\n",
        "    predicted_probs = []\n",
        "\n",
        "    for index, row in betting_df.iterrows():\n",
        "        winner_name = row['Winner']\n",
        "        loser_name = row['Loser']\n",
        "\n",
        "        winner_elo = elo_ratings.get(winner_name, 1500)\n",
        "        loser_elo = elo_ratings.get(loser_name, 1500)\n",
        "\n",
        "        expected_win_prob = calculate_EP(winner_elo, loser_elo)\n",
        "        predicted_probs.append(expected_win_prob)\n",
        "\n",
        "        # Update Elo ratings\n",
        "        elo_ratings[winner_name] = update_elo(winner_elo, expected_win_prob, 1, k_factor)\n",
        "        elo_ratings[loser_name] = update_elo(loser_elo, expected_win_prob, 0, k_factor)\n",
        "\n",
        "    betting_df['elo_predicted_prob'] = predicted_probs\n",
        "    return betting_df, elo_ratings\n",
        "\n",
        "# Grid search for the best K factor\n",
        "best_k = None\n",
        "best_accuracy = 0\n",
        "best_log_loss = float('inf')\n",
        "best_calibration = None\n",
        "\n",
        "k_values = [10, 20, 30, 40]\n",
        "\n",
        "for k in k_values:\n",
        "    temp_betting_df, _ = apply_constant_elo_model(betting_df.copy(), k)\n",
        "\n",
        "    accuracy = accuracy_score(temp_betting_df['result'], temp_betting_df['elo_predicted_prob'] > 0.5)\n",
        "    log_loss_value = log_loss(temp_betting_df['result'], temp_betting_df['elo_predicted_prob'])\n",
        "    calibration = temp_betting_df['result'].mean() / temp_betting_df['elo_predicted_prob'].mean()\n",
        "\n",
        "    if log_loss_value < best_log_loss:\n",
        "        best_k = k\n",
        "        best_accuracy = accuracy\n",
        "        best_log_loss = log_loss_value\n",
        "        best_calibration = calibration\n",
        "\n",
        "print(f\"Best K: {best_k}\")\n",
        "print(f\"(Accuracy, Log-Loss, Calibration): {best_accuracy}, {best_log_loss}, {best_calibration}\")\n"
      ],
      "metadata": {
        "colab": {
          "base_uri": "https://localhost:8080/"
        },
        "id": "0kpkYZjGeGdx",
        "outputId": "c39ee45c-06b6-4f22-c025-ac800dfe2a4f"
      },
      "execution_count": 14,
      "outputs": [
        {
          "output_type": "stream",
          "name": "stdout",
          "text": [
            "Best K: 10\n",
            "(Accuracy, Log-Loss, Calibration): 0.7094626042748201, 0.5581992123263912, 1.2266019425029742\n"
          ]
        }
      ]
    },
    {
      "cell_type": "markdown",
      "source": [
        "### ELO Model with dynamic K"
      ],
      "metadata": {
        "id": "94Rj-dVPg4c5"
      }
    },
    {
      "cell_type": "code",
      "source": [
        "def dynamic_k_factor(matches_played, delta=100, myu=5, sigma=0.1):\n",
        "    return delta / ((matches_played + myu) ** sigma)\n",
        "\n",
        "def apply_dynamic_elo_model(betting_df, elo_ratings, matches_played, delta=100, myu=5, sigma=0.1):\n",
        "    predicted_probs = []\n",
        "\n",
        "    for index, row in betting_df.iterrows():\n",
        "        winner_name = row['Winner']\n",
        "        loser_name = row['Loser']\n",
        "\n",
        "        winner_elo = elo_ratings.get(winner_name, 1500)\n",
        "        loser_elo = elo_ratings.get(loser_name, 1500)\n",
        "\n",
        "        k_factor_winner = dynamic_k_factor(matches_played.get(winner_name, 0), delta, myu, sigma)\n",
        "        k_factor_loser = dynamic_k_factor(matches_played.get(loser_name, 0), delta, myu, sigma)\n",
        "\n",
        "        expected_win_prob = calculate_EP(winner_elo, loser_elo)\n",
        "        predicted_probs.append(expected_win_prob)\n",
        "\n",
        "        # Updating Elo ratings\n",
        "        elo_ratings[winner_name] = update_elo(winner_elo, expected_win_prob, 1, k_factor_winner)\n",
        "        elo_ratings[loser_name] = update_elo(loser_elo, expected_win_prob, 0, k_factor_loser)\n",
        "\n",
        "        # Updating matches played\n",
        "        matches_played[winner_name] = matches_played.get(winner_name, 0) + 1\n",
        "        matches_played[loser_name] = matches_played.get(loser_name, 0) + 1\n",
        "\n",
        "    betting_df['elo_predicted_prob'] = predicted_probs\n",
        "    return betting_df\n",
        "\n",
        "# Initializing Elo ratings and matches played\n",
        "elo_ratings = {}\n",
        "matches_played = {}\n",
        "\n",
        "# Applying the dynamic Elo model\n",
        "betting_df = apply_dynamic_elo_model(betting_df, elo_ratings, matches_played)\n",
        "\n",
        "# Re-evaluating the model metrics\n",
        "accuracy_elo = accuracy_score(betting_df['result'], betting_df['elo_predicted_prob'] > 0.5)\n",
        "log_loss_elo = log_loss(betting_df['result'], betting_df['elo_predicted_prob'])\n",
        "calibration_elo = betting_df['result'].mean() / betting_df['elo_predicted_prob'].mean()\n",
        "\n",
        "print(f\"Dynamic Elo Model - Accuracy: {accuracy_elo}, Log-Loss: {log_loss_elo}, Calibration: {calibration_elo}\")\n"
      ],
      "metadata": {
        "colab": {
          "base_uri": "https://localhost:8080/"
        },
        "id": "hCV4VJg7gIPf",
        "outputId": "ddd9eb8e-f2c2-466f-c782-a4d74b0d4804"
      },
      "execution_count": 15,
      "outputs": [
        {
          "output_type": "stream",
          "name": "stdout",
          "text": [
            "Dynamic Elo Model - Accuracy: 0.6773119472987004, Log-Loss: 1.0466574299619376, Calibration: 1.1680353976993483\n"
          ]
        }
      ]
    }
  ]
}