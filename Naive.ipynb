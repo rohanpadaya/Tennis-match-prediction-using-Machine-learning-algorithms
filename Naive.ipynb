{
  "nbformat": 4,
  "nbformat_minor": 0,
  "metadata": {
    "colab": {
      "provenance": []
    },
    "kernelspec": {
      "name": "python3",
      "display_name": "Python 3"
    },
    "language_info": {
      "name": "python"
    }
  },
  "cells": [
    {
      "cell_type": "markdown",
      "source": [
        "# Loading Libraries"
      ],
      "metadata": {
        "id": "UUdFjvGBr5zo"
      }
    },
    {
      "cell_type": "code",
      "source": [
        "import os\n",
        "import pandas as pd\n",
        "import numpy as np\n",
        "from sklearn.linear_model import LogisticRegression\n",
        "from sklearn.metrics import accuracy_score, log_loss\n",
        "from sklearn.preprocessing import StandardScaler\n",
        "from sklearn.model_selection import GridSearchCV, train_test_split\n",
        "import matplotlib.pyplot as plt"
      ],
      "metadata": {
        "id": "XO45t9u7sAoT"
      },
      "execution_count": 1,
      "outputs": []
    },
    {
      "cell_type": "code",
      "source": [
        "# List of file paths for the data from 2005 to 2019\n",
        "\n",
        "file_paths = [\n",
        "\n",
        "    '/content/drive/MyDrive/Betting_data/2005.xls',\n",
        "    '/content/drive/MyDrive/Betting_data/2006.xls',\n",
        "    '/content/drive/MyDrive/Betting_data/2007.xls',\n",
        "    '/content/drive/MyDrive/Betting_data/2008.xls',\n",
        "    '/content/drive/MyDrive/Betting_data/2009.xls',\n",
        "    '/content/drive/MyDrive/Betting_data/2010.xls',\n",
        "    '/content/drive/MyDrive/Betting_data/2011.xls',\n",
        "    '/content/drive/MyDrive/Betting_data/2012.xls',\n",
        "    '/content/drive/MyDrive/Betting_data/2013.xlsx',\n",
        "    '/content/drive/MyDrive/Betting_data/2014.xlsx',\n",
        "    '/content/drive/MyDrive/Betting_data/2015.xlsx',\n",
        "    '/content/drive/MyDrive/Betting_data/2016.xlsx',\n",
        "    '/content/drive/MyDrive/Betting_data/2017.xlsx',\n",
        "    '/content/drive/MyDrive/Betting_data/2018.xlsx',\n",
        "    '/content/drive/MyDrive/Betting_data/2019.xlsx'\n",
        "]\n",
        "\n",
        "# Initializing an empty list to hold DataFrames\n",
        "data_frames = []\n",
        "\n",
        "# Loading data into a DataFrame\n",
        "for file_path in file_paths:\n",
        "    if os.path.exists(file_path):\n",
        "        df = pd.read_excel(file_path)\n",
        "        data_frames.append(df)\n",
        "    else:\n",
        "        print(f\"File {file_path} not found.\")\n",
        "\n",
        "# Combining all the DataFrames into a single DataFrame\n",
        "betting_df = pd.concat(data_frames, ignore_index=True)\n"
      ],
      "metadata": {
        "colab": {
          "base_uri": "https://localhost:8080/"
        },
        "id": "IdX4_foirwgD",
        "outputId": "88a8c563-2591-4a99-f44b-e75b5d09aadf"
      },
      "execution_count": 2,
      "outputs": [
        {
          "output_type": "stream",
          "name": "stderr",
          "text": [
            "/usr/local/lib/python3.10/dist-packages/openpyxl/worksheet/_reader.py:329: UserWarning: Unknown extension is not supported and will be removed\n",
            "  warn(msg)\n",
            "/usr/local/lib/python3.10/dist-packages/openpyxl/worksheet/_reader.py:329: UserWarning: Unknown extension is not supported and will be removed\n",
            "  warn(msg)\n",
            "/usr/local/lib/python3.10/dist-packages/openpyxl/worksheet/_reader.py:329: UserWarning: Unknown extension is not supported and will be removed\n",
            "  warn(msg)\n",
            "/usr/local/lib/python3.10/dist-packages/openpyxl/worksheet/_reader.py:329: UserWarning: Unknown extension is not supported and will be removed\n",
            "  warn(msg)\n"
          ]
        }
      ]
    },
    {
      "cell_type": "code",
      "source": [
        "# Selecting Columns and Data Cleaning\n",
        "\n",
        "# Converting 'Date' into a datetime object\n",
        "betting_df[\"Date\"] = pd.to_datetime(betting_df[\"Date\"], errors='coerce')\n",
        "\n",
        "# Selecting only the relevant columns\n",
        "columns = [\n",
        "    \"Date\",\n",
        "    \"Tournament\",\n",
        "    \"Surface\",\n",
        "    \"Winner\",\n",
        "    \"Loser\",\n",
        "    \"WRank\",\n",
        "    \"WPts\",\n",
        "    \"LRank\",\n",
        "    \"LPts\",\n",
        "    \"B365W\",\n",
        "    \"B365L\",\n",
        "    \"PSW\",\n",
        "    \"PSL\"\n",
        "]\n",
        "betting_df = betting_df[columns]\n",
        "\n",
        "# Converting categorical columns to 'category' data type\n",
        "categorical_columns = [\"Tournament\", \"Surface\"]\n",
        "betting_df[categorical_columns] = betting_df[categorical_columns].astype(\"category\")\n",
        "\n",
        "# Handling missing values in 'WRank' and 'LRank'\n",
        "betting_df[\"WRank\"] = betting_df[\"WRank\"].fillna(100000)\n",
        "betting_df[\"LRank\"] = betting_df[\"LRank\"].fillna(100000)\n",
        "\n",
        "# Handling missing values in 'WPts' and 'LPts' by imputing with the median\n",
        "betting_df[\"WPts\"] = betting_df[\"WPts\"].fillna(betting_df[\"WPts\"].median())\n",
        "betting_df[\"LPts\"] = betting_df[\"LPts\"].fillna(betting_df[\"LPts\"].median())\n",
        "\n",
        "# Removing remaining NaN values\n",
        "betting_df.dropna(inplace=True)\n",
        "\n",
        "# Creating a higher-ranked player column\n",
        "betting_df[\"higher_rank_won\"] = betting_df[\"WRank\"] < betting_df[\"LRank\"]\n",
        "\n",
        "# Calculating the difference in ranking points between the higher and lower-ranked players\n",
        "betting_df[\"diff\"] = (\n",
        "    betting_df[\"WPts\"] * betting_df[\"higher_rank_won\"] +\n",
        "    betting_df[\"LPts\"] * (~betting_df[\"higher_rank_won\"])\n",
        ") - (\n",
        "    betting_df[\"LPts\"] * betting_df[\"higher_rank_won\"] +\n",
        "    betting_df[\"WPts\"] * (~betting_df[\"higher_rank_won\"])\n",
        ")\n",
        "\n",
        "# Print the last few rows of the DataFrame to verify the output\n",
        "print(betting_df.tail())\n"
      ],
      "metadata": {
        "colab": {
          "base_uri": "https://localhost:8080/"
        },
        "id": "oHR8datssRet",
        "outputId": "5b20dbe9-233b-43b7-901f-c01684c9c7cc"
      },
      "execution_count": 3,
      "outputs": [
        {
          "output_type": "stream",
          "name": "stdout",
          "text": [
            "            Date   Tournament Surface         Winner          Loser  WRank  \\\n",
            "40385 2019-11-15  Masters Cup    Hard      Nadal R.   Tsitsipas S.     1.0   \n",
            "40386 2019-11-15  Masters Cup    Hard     Zverev A.    Medvedev D.     7.0   \n",
            "40387 2019-11-16  Masters Cup    Hard  Tsitsipas S.     Federer R.     6.0   \n",
            "40388 2019-11-16  Masters Cup    Hard      Thiem D.      Zverev A.     5.0   \n",
            "40389 2019-11-17  Masters Cup    Hard  Tsitsipas S.       Thiem D.     6.0   \n",
            "\n",
            "         WPts  LRank    LPts  B365W  B365L   PSW   PSL  higher_rank_won  \\\n",
            "40385  9585.0    6.0  4000.0   1.44   2.75  1.39  3.26             True   \n",
            "40386  2945.0    4.0  5705.0   1.90   1.90  2.14  1.79            False   \n",
            "40387  4000.0    3.0  6190.0   3.50   1.30  3.75  1.33            False   \n",
            "40388  5025.0    7.0  2945.0   1.80   2.00  1.84  2.10             True   \n",
            "40389  4000.0    5.0  5025.0   2.00   1.80  2.00  1.93            False   \n",
            "\n",
            "         diff  \n",
            "40385  5585.0  \n",
            "40386  2760.0  \n",
            "40387  2190.0  \n",
            "40388  2080.0  \n",
            "40389  1025.0  \n"
          ]
        },
        {
          "output_type": "stream",
          "name": "stderr",
          "text": [
            "<ipython-input-3-74acefc4b5c3>:26: SettingWithCopyWarning: \n",
            "A value is trying to be set on a copy of a slice from a DataFrame.\n",
            "Try using .loc[row_indexer,col_indexer] = value instead\n",
            "\n",
            "See the caveats in the documentation: https://pandas.pydata.org/pandas-docs/stable/user_guide/indexing.html#returning-a-view-versus-a-copy\n",
            "  betting_df[categorical_columns] = betting_df[categorical_columns].astype(\"category\")\n",
            "<ipython-input-3-74acefc4b5c3>:29: SettingWithCopyWarning: \n",
            "A value is trying to be set on a copy of a slice from a DataFrame.\n",
            "Try using .loc[row_indexer,col_indexer] = value instead\n",
            "\n",
            "See the caveats in the documentation: https://pandas.pydata.org/pandas-docs/stable/user_guide/indexing.html#returning-a-view-versus-a-copy\n",
            "  betting_df[\"WRank\"] = betting_df[\"WRank\"].fillna(100000)\n",
            "<ipython-input-3-74acefc4b5c3>:30: SettingWithCopyWarning: \n",
            "A value is trying to be set on a copy of a slice from a DataFrame.\n",
            "Try using .loc[row_indexer,col_indexer] = value instead\n",
            "\n",
            "See the caveats in the documentation: https://pandas.pydata.org/pandas-docs/stable/user_guide/indexing.html#returning-a-view-versus-a-copy\n",
            "  betting_df[\"LRank\"] = betting_df[\"LRank\"].fillna(100000)\n",
            "<ipython-input-3-74acefc4b5c3>:33: SettingWithCopyWarning: \n",
            "A value is trying to be set on a copy of a slice from a DataFrame.\n",
            "Try using .loc[row_indexer,col_indexer] = value instead\n",
            "\n",
            "See the caveats in the documentation: https://pandas.pydata.org/pandas-docs/stable/user_guide/indexing.html#returning-a-view-versus-a-copy\n",
            "  betting_df[\"WPts\"] = betting_df[\"WPts\"].fillna(betting_df[\"WPts\"].median())\n",
            "<ipython-input-3-74acefc4b5c3>:34: SettingWithCopyWarning: \n",
            "A value is trying to be set on a copy of a slice from a DataFrame.\n",
            "Try using .loc[row_indexer,col_indexer] = value instead\n",
            "\n",
            "See the caveats in the documentation: https://pandas.pydata.org/pandas-docs/stable/user_guide/indexing.html#returning-a-view-versus-a-copy\n",
            "  betting_df[\"LPts\"] = betting_df[\"LPts\"].fillna(betting_df[\"LPts\"].median())\n",
            "<ipython-input-3-74acefc4b5c3>:37: SettingWithCopyWarning: \n",
            "A value is trying to be set on a copy of a slice from a DataFrame\n",
            "\n",
            "See the caveats in the documentation: https://pandas.pydata.org/pandas-docs/stable/user_guide/indexing.html#returning-a-view-versus-a-copy\n",
            "  betting_df.dropna(inplace=True)\n",
            "<ipython-input-3-74acefc4b5c3>:40: SettingWithCopyWarning: \n",
            "A value is trying to be set on a copy of a slice from a DataFrame.\n",
            "Try using .loc[row_indexer,col_indexer] = value instead\n",
            "\n",
            "See the caveats in the documentation: https://pandas.pydata.org/pandas-docs/stable/user_guide/indexing.html#returning-a-view-versus-a-copy\n",
            "  betting_df[\"higher_rank_won\"] = betting_df[\"WRank\"] < betting_df[\"LRank\"]\n",
            "<ipython-input-3-74acefc4b5c3>:43: SettingWithCopyWarning: \n",
            "A value is trying to be set on a copy of a slice from a DataFrame.\n",
            "Try using .loc[row_indexer,col_indexer] = value instead\n",
            "\n",
            "See the caveats in the documentation: https://pandas.pydata.org/pandas-docs/stable/user_guide/indexing.html#returning-a-view-versus-a-copy\n",
            "  betting_df[\"diff\"] = (\n"
          ]
        }
      ]
    },
    {
      "cell_type": "code",
      "source": [
        "# Assuming 'betting_df' is the cleaned DataFrame from your previous step\n",
        "# Ensure 'higher_rank_won' is correctly set up as a binary column\n",
        "betting_df[\"higher_rank_won\"] = betting_df[\"WRank\"] < betting_df[\"LRank\"]\n",
        "\n",
        "n = len(betting_df)  # Total number of rows in the dataset\n",
        "\n",
        "# Calculate naive accuracy\n",
        "naive_accuracy = betting_df[\"higher_rank_won\"].mean()  # The probability that the higher-ranked player will win\n",
        "\n",
        "# Log-Loss for naive model\n",
        "w = betting_df[\"higher_rank_won\"]  # Outcomes of matches (whether the higher-ranked player won)\n",
        "pi_naive = naive_accuracy  # Constant probability for the naive model\n",
        "\n",
        "# Calculate log-loss for the naive model\n",
        "log_loss_naive = -1 / n * sum(w * np.log(pi_naive) + (1 - w) * np.log(1 - pi_naive))\n",
        "\n",
        "# Calibration for naive model\n",
        "calibration_naive = naive_accuracy * n / sum(w)  # Expected to be close to 1 if the model is well-calibrated\n",
        "\n",
        "# Creating a DataFrame to store validation stats\n",
        "validation_stats = pd.DataFrame({\n",
        "    \"model\": [\"naive\"],\n",
        "    \"accuracy\": [naive_accuracy],\n",
        "    \"calibration\": [calibration_naive],\n",
        "    \"log_loss\": [log_loss_naive]\n",
        "})\n",
        "\n",
        "print(validation_stats)  # Return validation metrics for the naive model\n"
      ],
      "metadata": {
        "colab": {
          "base_uri": "https://localhost:8080/"
        },
        "id": "QqmicfXzsaPV",
        "outputId": "ca893c77-2742-44c2-cd1d-ed91c77d9ef9"
      },
      "execution_count": 4,
      "outputs": [
        {
          "output_type": "stream",
          "name": "stdout",
          "text": [
            "   model  accuracy  calibration  log_loss\n",
            "0  naive  0.658661          1.0  0.641919\n"
          ]
        }
      ]
    }
  ]
}