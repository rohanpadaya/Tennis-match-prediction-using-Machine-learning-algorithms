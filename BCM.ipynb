{
  "nbformat": 4,
  "nbformat_minor": 0,
  "metadata": {
    "colab": {
      "provenance": []
    },
    "kernelspec": {
      "name": "python3",
      "display_name": "Python 3"
    },
    "language_info": {
      "name": "python"
    }
  },
  "cells": [
    {
      "cell_type": "markdown",
      "source": [
        "# Loading Libraries"
      ],
      "metadata": {
        "id": "H-ragEySs_pV"
      }
    },
    {
      "cell_type": "code",
      "source": [
        "import os\n",
        "import pandas as pd\n",
        "import numpy as np\n",
        "from sklearn.linear_model import LogisticRegression\n",
        "from sklearn.metrics import accuracy_score, log_loss\n",
        "from sklearn.preprocessing import StandardScaler\n",
        "from sklearn.model_selection import GridSearchCV, train_test_split\n",
        "import matplotlib.pyplot as plt"
      ],
      "metadata": {
        "id": "EYUABsUgs-EG"
      },
      "execution_count": 8,
      "outputs": []
    },
    {
      "cell_type": "code",
      "source": [
        "from google.colab import drive\n",
        "drive.mount('/content/drive')"
      ],
      "metadata": {
        "id": "pDoggzCBtIc5"
      },
      "execution_count": null,
      "outputs": []
    },
    {
      "cell_type": "markdown",
      "source": [
        "# Data Loading and Cleaning"
      ],
      "metadata": {
        "id": "25qUOuAFtN6K"
      }
    },
    {
      "cell_type": "code",
      "source": [
        "# List of file paths for the data from 2005 to 2019\n",
        "\n",
        "file_paths = [\n",
        "\n",
        "    '/content/drive/MyDrive/Betting_data/2005.xls',\n",
        "    '/content/drive/MyDrive/Betting_data/2006.xls',\n",
        "    '/content/drive/MyDrive/Betting_data/2007.xls',\n",
        "    '/content/drive/MyDrive/Betting_data/2008.xls',\n",
        "    '/content/drive/MyDrive/Betting_data/2009.xls',\n",
        "    '/content/drive/MyDrive/Betting_data/2010.xls',\n",
        "    '/content/drive/MyDrive/Betting_data/2011.xls',\n",
        "    '/content/drive/MyDrive/Betting_data/2012.xls',\n",
        "    '/content/drive/MyDrive/Betting_data/2013.xlsx',\n",
        "    '/content/drive/MyDrive/Betting_data/2014.xlsx',\n",
        "    '/content/drive/MyDrive/Betting_data/2015.xlsx',\n",
        "    '/content/drive/MyDrive/Betting_data/2016.xlsx',\n",
        "    '/content/drive/MyDrive/Betting_data/2017.xlsx',\n",
        "    '/content/drive/MyDrive/Betting_data/2018.xlsx',\n",
        "    '/content/drive/MyDrive/Betting_data/2019.xlsx'\n",
        "]\n",
        "\n",
        "# Initializing an empty list to hold DataFrames\n",
        "data_frames = []\n",
        "\n",
        "# Loading data into a DataFrame\n",
        "for file_path in file_paths:\n",
        "    if os.path.exists(file_path):\n",
        "        df = pd.read_excel(file_path)\n",
        "        data_frames.append(df)\n",
        "    else:\n",
        "        print(f\"File {file_path} not found.\")\n",
        "\n",
        "# Combining all the DataFrames into a single DataFrame\n",
        "betting_df = pd.concat(data_frames, ignore_index=True)\n"
      ],
      "metadata": {
        "colab": {
          "base_uri": "https://localhost:8080/"
        },
        "id": "rPy4FQlQtREc",
        "outputId": "d57dade1-7282-433d-ed1d-51ccf472424b"
      },
      "execution_count": 9,
      "outputs": [
        {
          "output_type": "stream",
          "name": "stderr",
          "text": [
            "/usr/local/lib/python3.10/dist-packages/openpyxl/worksheet/_reader.py:329: UserWarning: Unknown extension is not supported and will be removed\n",
            "  warn(msg)\n",
            "/usr/local/lib/python3.10/dist-packages/openpyxl/worksheet/_reader.py:329: UserWarning: Unknown extension is not supported and will be removed\n",
            "  warn(msg)\n",
            "/usr/local/lib/python3.10/dist-packages/openpyxl/worksheet/_reader.py:329: UserWarning: Unknown extension is not supported and will be removed\n",
            "  warn(msg)\n",
            "/usr/local/lib/python3.10/dist-packages/openpyxl/worksheet/_reader.py:329: UserWarning: Unknown extension is not supported and will be removed\n",
            "  warn(msg)\n"
          ]
        }
      ]
    },
    {
      "cell_type": "code",
      "source": [
        "# Converting 'Date' into a datetime object\n",
        "betting_df[\"Date\"] = pd.to_datetime(betting_df[\"Date\"], errors='coerce')\n",
        "\n",
        "# Converting categorical columns to 'category' data type\n",
        "categorical_columns = [\"Tournament\", \"Surface\"]\n",
        "betting_df[categorical_columns] = betting_df[categorical_columns].astype(\"category\")\n",
        "\n",
        "# Handling missing values in 'WRank' and 'LRank'\n",
        "betting_df[\"WRank\"] = betting_df[\"WRank\"].fillna(100000)\n",
        "betting_df[\"LRank\"] = betting_df[\"LRank\"].fillna(100000)\n",
        "\n",
        "# Handling missing values in 'WPts' and 'LPts' by imputing with the median\n",
        "betting_df[\"WPts\"] = betting_df[\"WPts\"].fillna(betting_df[\"WPts\"].median())\n",
        "betting_df[\"LPts\"] = betting_df[\"LPts\"].fillna(betting_df[\"LPts\"].median())\n",
        "\n",
        "# Creating a higher-ranked player column\n",
        "betting_df[\"higher_rank_won\"] = betting_df[\"WRank\"] < betting_df[\"LRank\"]\n",
        "\n",
        "# Select only the odds columns\n",
        "odds_columns = [\n",
        "    'B365W', 'B365L', 'PSW', 'PSL']\n",
        "#betting_df = betting_df[odds_columns]"
      ],
      "metadata": {
        "id": "A6pzKGRvtkrI"
      },
      "execution_count": 10,
      "outputs": []
    },
    {
      "cell_type": "markdown",
      "source": [
        "## Checking for missing values"
      ],
      "metadata": {
        "id": "qF6_lDy-ueqg"
      }
    },
    {
      "cell_type": "code",
      "source": [
        "\n",
        "\n",
        "# Calculate the number of missing values in each odds column\n",
        "missing_values = betting_df[odds_columns].isna().sum()\n",
        "\n",
        "# Print the number of missing values for each odds column\n",
        "print(missing_values)\n"
      ],
      "metadata": {
        "colab": {
          "base_uri": "https://localhost:8080/"
        },
        "id": "0-l2v25DuDr-",
        "outputId": "77c8ebc7-47e4-4d55-8a11-9a19ee2d9573"
      },
      "execution_count": 11,
      "outputs": [
        {
          "output_type": "stream",
          "name": "stdout",
          "text": [
            "B365W     547\n",
            "B365L     524\n",
            "PSW      3150\n",
            "PSL      3150\n",
            "dtype: int64\n"
          ]
        }
      ]
    },
    {
      "cell_type": "markdown",
      "source": [
        "## Replacing the missing values with mean"
      ],
      "metadata": {
        "id": "jcPCRTSIulja"
      }
    },
    {
      "cell_type": "code",
      "source": [
        "# Fill missing values in odds columns with the mean of each respective column\n",
        "betting_df[odds_columns] = betting_df[odds_columns].fillna(betting_df[odds_columns].mean())\n",
        "\n",
        "# Verify if there are any remaining missing values\n",
        "missing_values_after = betting_df[odds_columns].isna().sum()\n",
        "print(missing_values_after)"
      ],
      "metadata": {
        "colab": {
          "base_uri": "https://localhost:8080/"
        },
        "id": "0mEN9Sl2uI5S",
        "outputId": "487da30e-14c0-4dc1-b9b9-0b3e8d7b0807"
      },
      "execution_count": 12,
      "outputs": [
        {
          "output_type": "stream",
          "name": "stdout",
          "text": [
            "B365W    0\n",
            "B365L    0\n",
            "PSW      0\n",
            "PSL      0\n",
            "dtype: int64\n"
          ]
        }
      ]
    },
    {
      "cell_type": "markdown",
      "source": [
        "## Data Splitting"
      ],
      "metadata": {
        "id": "odWo8qP4up5P"
      }
    },
    {
      "cell_type": "code",
      "source": [
        "# Split the data into training and testing sets based on the date\n",
        "split_date = pd.to_datetime(\"2019-01-01\")\n",
        "matches_train = betting_df[betting_df[\"Date\"] < split_date]\n",
        "matches_test = betting_df[betting_df[\"Date\"] >= split_date]"
      ],
      "metadata": {
        "id": "_Csbq-JstoG2"
      },
      "execution_count": 14,
      "outputs": []
    },
    {
      "cell_type": "code",
      "source": [
        "matches_train.info()"
      ],
      "metadata": {
        "colab": {
          "base_uri": "https://localhost:8080/"
        },
        "id": "PleOQMgauSmY",
        "outputId": "bb45ed71-c21c-41a0-97c7-03fa6e420442"
      },
      "execution_count": 15,
      "outputs": [
        {
          "output_type": "stream",
          "name": "stdout",
          "text": [
            "<class 'pandas.core.frame.DataFrame'>\n",
            "Index: 37797 entries, 0 to 37842\n",
            "Data columns (total 49 columns):\n",
            " #   Column           Non-Null Count  Dtype         \n",
            "---  ------           --------------  -----         \n",
            " 0   ATP              37797 non-null  int64         \n",
            " 1   Location         37797 non-null  object        \n",
            " 2   Tournament       37797 non-null  category      \n",
            " 3   Date             37797 non-null  datetime64[ns]\n",
            " 4   Series           37797 non-null  object        \n",
            " 5   Court            37797 non-null  object        \n",
            " 6   Surface          37797 non-null  category      \n",
            " 7   Round            37797 non-null  object        \n",
            " 8   Best of          37797 non-null  int64         \n",
            " 9   Winner           37797 non-null  object        \n",
            " 10  Loser            37797 non-null  object        \n",
            " 11  WRank            37797 non-null  float64       \n",
            " 12  LRank            37797 non-null  float64       \n",
            " 13  WPts             37797 non-null  float64       \n",
            " 14  LPts             37797 non-null  float64       \n",
            " 15  W1               37583 non-null  float64       \n",
            " 16  L1               37585 non-null  float64       \n",
            " 17  W2               37206 non-null  object        \n",
            " 18  L2               37207 non-null  object        \n",
            " 19  W3               17581 non-null  object        \n",
            " 20  L3               17581 non-null  object        \n",
            " 21  W4               3382 non-null   float64       \n",
            " 22  L4               3382 non-null   float64       \n",
            " 23  W5               1282 non-null   float64       \n",
            " 24  L5               1282 non-null   float64       \n",
            " 25  Wsets            37588 non-null  float64       \n",
            " 26  Lsets            37587 non-null  float64       \n",
            " 27  Comment          37797 non-null  object        \n",
            " 28  B365W            37797 non-null  float64       \n",
            " 29  B365L            37797 non-null  float64       \n",
            " 30  CBW              8053 non-null   float64       \n",
            " 31  CBL              8053 non-null   float64       \n",
            " 32  EXW              36780 non-null  object        \n",
            " 33  EXL              36785 non-null  float64       \n",
            " 34  IWW              2819 non-null   float64       \n",
            " 35  IWL              2819 non-null   float64       \n",
            " 36  PSW              37797 non-null  float64       \n",
            " 37  PSL              37797 non-null  float64       \n",
            " 38  UBW              10671 non-null  float64       \n",
            " 39  UBL              10671 non-null  float64       \n",
            " 40  LBW              28131 non-null  float64       \n",
            " 41  LBL              28142 non-null  float64       \n",
            " 42  SJW              15572 non-null  float64       \n",
            " 43  SJL              15579 non-null  float64       \n",
            " 44  MaxW             22762 non-null  float64       \n",
            " 45  MaxL             22762 non-null  float64       \n",
            " 46  AvgW             22762 non-null  float64       \n",
            " 47  AvgL             22762 non-null  float64       \n",
            " 48  higher_rank_won  37797 non-null  bool          \n",
            "dtypes: bool(1), category(2), datetime64[ns](1), float64(31), int64(2), object(12)\n",
            "memory usage: 13.7+ MB\n"
          ]
        }
      ]
    },
    {
      "cell_type": "code",
      "source": [
        "# Functions involved in BCM model\n",
        "def implied_probabilities(alpha, beta):\n",
        "    \"\"\"\n",
        "    Calculate implied probabilities from odds.\n",
        "    \"\"\"\n",
        "    p1 = beta / (alpha + beta)\n",
        "    p2 = alpha / (alpha + beta)\n",
        "    return p1, p2\n",
        "\n",
        "def logit(p):\n",
        "    \"\"\"\n",
        "    Compute the logit (log-odds) of a probability.\n",
        "    \"\"\"\n",
        "    return np.log(p / (1 - p))\n",
        "\n",
        "def inv_logit(y):\n",
        "    \"\"\"\n",
        "    Compute the inverse logit to get the probability.\n",
        "    \"\"\"\n",
        "    return np.exp(y) / (1 + np.exp(y))\n",
        "\n",
        "# Extracting odds columns for players 1 and 2 from multiple companies\n",
        "company_odds_dict = {\n",
        "    'B365': ['B365W', 'B365L'],\n",
        "    'PS': ['PSW', 'PSL']\n",
        "}\n",
        "\n",
        "# Function to calculate BCM probabilities\n",
        "def calculate_bcm_probabilities(matches):\n",
        "    probs = []\n",
        "    for company, (winner_odds, loser_odds) in company_odds_dict.items():\n",
        "        if winner_odds in matches.columns and loser_odds in matches.columns:\n",
        "            alpha = matches[winner_odds]\n",
        "            beta = matches[loser_odds]\n",
        "            p1, p2 = implied_probabilities(alpha, beta)\n",
        "            probs.append(p1)\n",
        "\n",
        "    # Calculate the logit of the average probabilities\n",
        "    logit_probs = np.mean([logit(p) for p in probs], axis=0)\n",
        "    consensus_probs = inv_logit(logit_probs)\n",
        "\n",
        "    return consensus_probs\n",
        "\n",
        "# Calculating BCM probabilities for the training and testing datasets\n",
        "train_bcm_probs = calculate_bcm_probabilities(matches_train)\n",
        "test_bcm_probs = calculate_bcm_probabilities(matches_test)\n",
        "\n",
        "\n",
        "# Evaluating the BCM model on the testing set\n",
        "y_test = matches_test['higher_rank_won']\n",
        "\n",
        "# Calculating accuracy\n",
        "bcm_accuracy = accuracy_score(y_test, np.round(test_bcm_probs))\n",
        "\n",
        "# Calculating log loss\n",
        "bcm_log_loss = log_loss(y_test, test_bcm_probs)\n",
        "\n",
        "# CalcuCalculatinglate calibration\n",
        "bcm_calibration = np.sum(test_bcm_probs) / np.sum(y_test)\n",
        "\n",
        "print(f\"BCM Model Accuracy: {bcm_accuracy}\")\n",
        "print(f\"BCM Model Log Loss: {bcm_log_loss}\")\n",
        "print(f\"BCM Model Calibration: {bcm_calibration}\")\n",
        "\n",
        "# Adding BCM model results to validation stats\n",
        "validation_stats = pd.DataFrame({\n",
        "    \"model\": [\"bcm\"],\n",
        "    \"accuracy\": [bcm_accuracy],\n",
        "    \"calibration\": [bcm_calibration],\n",
        "    \"log_loss\": [bcm_log_loss]\n",
        "})\n",
        "\n",
        "print(validation_stats)"
      ],
      "metadata": {
        "colab": {
          "base_uri": "https://localhost:8080/"
        },
        "id": "lj9cxCFPuZvv",
        "outputId": "a44a29e4-7b18-4c0c-ca34-06e0886ebfd4"
      },
      "execution_count": 16,
      "outputs": [
        {
          "output_type": "stream",
          "name": "stdout",
          "text": [
            "BCM Model Accuracy: 0.786733513305052\n",
            "BCM Model Log Loss: 0.5032026995207048\n",
            "BCM Model Calibration: 0.9562794838292791\n",
            "  model  accuracy  calibration  log_loss\n",
            "0   bcm  0.786734     0.956279  0.503203\n"
          ]
        }
      ]
    }
  ]
}